{
 "cells": [
  {
   "cell_type": "code",
   "execution_count": 3,
   "id": "fc5b029f",
   "metadata": {},
   "outputs": [],
   "source": [
    "# 📘 1. Import Libraries\n",
    "import pandas as pd\n",
    "import numpy as np\n",
    "import matplotlib.pyplot as plt\n",
    "import seaborn as sns\n",
    "from sklearn.model_selection import train_test_split\n",
    "from sklearn.ensemble import RandomForestClassifier\n",
    "from sklearn.linear_model import LogisticRegression\n",
    "from sklearn.metrics import confusion_matrix, classification_report, accuracy_score\n"
   ]
  },
  {
   "cell_type": "code",
   "execution_count": null,
   "id": "48ca24b4",
   "metadata": {},
   "outputs": [
    {
     "ename": "NameError",
     "evalue": "name 'weatherAUS' is not defined",
     "output_type": "error",
     "traceback": [
      "\u001b[1;31m---------------------------------------------------------------------------\u001b[0m",
      "\u001b[1;31mNameError\u001b[0m                                 Traceback (most recent call last)",
      "Cell \u001b[1;32mIn[4], line 2\u001b[0m\n\u001b[0;32m      1\u001b[0m \u001b[38;5;66;03m# 📂 2. Load Dataset from URL\u001b[39;00m\n\u001b[1;32m----> 2\u001b[0m df \u001b[38;5;241m=\u001b[39m pd\u001b[38;5;241m.\u001b[39mread_csv (weatherAUS\u001b[38;5;241m.\u001b[39mcsv)\n\u001b[0;32m      3\u001b[0m df\u001b[38;5;241m.\u001b[39mread()\n",
      "\u001b[1;31mNameError\u001b[0m: name 'weatherAUS' is not defined"
     ]
    }
   ],
   "source": [
    "# 📂 2. Load Dataset from URL\n",
    "url = \"https://cf-courses-data.s3.us.cloud-object-storage.appdomain.cloud/_0eYOqji3unP1tDNKWZMjg/weatherAUS-2.csv\n",
    "df = pd.read_csv(url)\n",
    "\n",
    "df.head()\n"
   ]
  },
  {
   "cell_type": "code",
   "execution_count": null,
   "id": "39ce00b2",
   "metadata": {},
   "outputs": [],
   "source": [
    "# Show data info and summary\n",
    "df.info()\n",
    "df.describe()\n"
   ]
  },
  {
   "cell_type": "code",
   "execution_count": null,
   "id": "e61fb3c1",
   "metadata": {},
   "outputs": [],
   "source": [
    "# Missing values count\n",
    "df.isnull().sum()\n"
   ]
  },
  {
   "cell_type": "code",
   "execution_count": null,
   "id": "621d7f5a",
   "metadata": {},
   "outputs": [],
   "source": [
    "plt.figure(figsize=(12,6))\n",
    "sns.heatmap(df.isnull(), cbar=False, cmap=\"viridis\")\n",
    "plt.title(\"Missing Values Heatmap\")\n",
    "plt.show()\n"
   ]
  },
  {
   "cell_type": "code",
   "execution_count": null,
   "id": "45bb0c8d",
   "metadata": {},
   "outputs": [],
   "source": [
    "df.drop(['Evaporation', 'Sunshine', 'Cloud9am', 'Cloud3pm'], axis=1, inplace=True)\n"
   ]
  },
  {
   "cell_type": "code",
   "execution_count": null,
   "id": "634c18b7",
   "metadata": {},
   "outputs": [],
   "source": [
    "df.dropna(subset=['RainTomorrow'], inplace=True)\n",
    "df.fillna(df.mean(numeric_only=True), inplace=True)\n",
    "df['RainToday'] = df['RainToday'].fillna('No')\n"
   ]
  },
  {
   "cell_type": "code",
   "execution_count": null,
   "id": "889be921",
   "metadata": {},
   "outputs": [],
   "source": [
    "df['RainToday'] = df['RainToday'].map({'No': 0, 'Yes': 1})\n",
    "df['RainTomorrow'] = df['RainTomorrow'].map({'No': 0, 'Yes': 1})\n"
   ]
  },
  {
   "cell_type": "code",
   "execution_count": null,
   "id": "f76ccc2a",
   "metadata": {},
   "outputs": [],
   "source": [
    "plt.figure(figsize=(8,6))\n",
    "sns.histplot(df['Humidity3pm'], bins=30, kde=True)\n",
    "plt.title(\"Humidity at 3pm Distribution\")\n",
    "plt.show()\n"
   ]
  },
  {
   "cell_type": "code",
   "execution_count": null,
   "id": "6a515c99",
   "metadata": {},
   "outputs": [],
   "source": [
    "plt.figure(figsize=(10,8))\n",
    "sns.heatmap(df.corr(), annot=False, cmap='coolwarm')\n",
    "plt.title(\"Feature Correlation Heatmap\")\n",
    "plt.show()\n"
   ]
  },
  {
   "cell_type": "code",
   "execution_count": null,
   "id": "d7060e70",
   "metadata": {},
   "outputs": [],
   "source": [
    "features = ['Humidity3pm', 'Pressure9am', 'RainToday', 'WindSpeed3pm']\n",
    "X = df[features]\n",
    "y = df['RainTomorrow']\n"
   ]
  },
  {
   "cell_type": "code",
   "execution_count": null,
   "id": "a4d556c4",
   "metadata": {},
   "outputs": [],
   "source": [
    "X_train, X_test, y_train, y_test = train_test_split(X, y, test_size=0.2, random_state=42)\n"
   ]
  },
  {
   "cell_type": "code",
   "execution_count": null,
   "id": "7cf9d79c",
   "metadata": {},
   "outputs": [],
   "source": [
    "# Random Forest\n",
    "rf_model = RandomForestClassifier(n_estimators=100, random_state=42)\n",
    "rf_model.fit(X_train, y_train)\n",
    "\n",
    "# Logistic Regression\n",
    "lr_model = LogisticRegression(max_iter=500)\n",
    "lr_model.fit(X_train, y_train)\n"
   ]
  },
  {
   "cell_type": "code",
   "execution_count": null,
   "id": "4786287a",
   "metadata": {},
   "outputs": [],
   "source": [
    "# Random Forest predictions\n",
    "y_pred_rf = rf_model.predict(X_test)\n",
    "cm_rf = confusion_matrix(y_test, y_pred_rf)\n",
    "\n",
    "# Logistic Regression predictions\n",
    "y_pred_lr = lr_model.predict(X_test)\n",
    "cm_lr = confusion_matrix(y_test, y_pred_lr)\n",
    "\n",
    "# Accuracy\n",
    "print(\"Random Forest Accuracy:\", accuracy_score(y_test, y_pred_rf))\n",
    "print(\"Logistic Regression Accuracy:\", accuracy_score(y_test, y_pred_lr))\n",
    "\n",
    "# Classification report for Random Forest\n",
    "print(\"\\nRandom Forest Report:\\n\", classification_report(y_test, y_pred_rf))\n",
    "\n",
    "# True Positive Rate for RF\n",
    "TP = cm_rf[1][1]\n",
    "FN = cm_rf[1][0]\n",
    "TPR = (TP / (TP + FN)) * 100\n",
    "print(\"True Positive Rate (RF):\", round(TPR, 2), \"%\")\n",
    "\n",
    "# Feature importance plot\n",
    "importances = rf_model.feature_importances_\n",
    "sns.barplot(x=importances, y=features)\n",
    "plt.title(\"Feature Importance\")\n",
    "plt.xlabel(\"Importance Score\")\n",
    "plt.ylabel(\"Features\")\n",
    "plt.show()\n"
   ]
  }
 ],
 "metadata": {
  "kernelspec": {
   "display_name": "base",
   "language": "python",
   "name": "python3"
  },
  "language_info": {
   "codemirror_mode": {
    "name": "ipython",
    "version": 3
   },
   "file_extension": ".py",
   "mimetype": "text/x-python",
   "name": "python",
   "nbconvert_exporter": "python",
   "pygments_lexer": "ipython3",
   "version": "3.13.5"
  }
 },
 "nbformat": 4,
 "nbformat_minor": 5
}
